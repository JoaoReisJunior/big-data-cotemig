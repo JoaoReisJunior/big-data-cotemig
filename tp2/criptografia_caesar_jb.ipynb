{
 "cells": [
  {
   "cell_type": "code",
   "execution_count": 67,
   "metadata": {
    "collapsed": true
   },
   "outputs": [],
   "source": [
    "key = 'abcdefghijklmnopqrstuvwxyz'\n",
    "\n",
    "def encrypt_caesar(texto):\n",
    "    result = ''\n",
    "\n",
    "    for l in texto.lower():\n",
    "        try:\n",
    "            i = (key.index(l) + 3) % 26\n",
    "            result += key[i]\n",
    "        except ValueError:\n",
    "            result += l\n",
    "\n",
    "    return result.upper()\n",
    "\n",
    "def decrypt_caesar(texto):\n",
    "    result = ''\n",
    "\n",
    "    for l in texto.lower():\n",
    "        try:\n",
    "            i = (key.index(l) - 3) % 26\n",
    "            result += key[i]\n",
    "        except ValueError:\n",
    "            result += l\n",
    "\n",
    "    return result.upper()\n"
   ]
  },
  {
   "cell_type": "code",
   "execution_count": 64,
   "metadata": {},
   "outputs": [
    {
     "name": "stdout",
     "output_type": "stream",
     "text": [
      "Resultado criptografia: I1UVW S0VW\n",
      "Resultado criptografia:  \n",
      "\n",
      "Resultado decriptografia: F1RST P0ST\n",
      "Resultado decriptografia:  \n"
     ]
    }
   ],
   "source": [
    "print('Resultado criptografia:' ,encrypt_caesar('F1RST P0ST'))\n",
    "print('Resultado criptografia:' ,encrypt_caesar(' '))\n",
    "\n",
    "print('')\n",
    "\n",
    "\n",
    "print('Resultado decriptografia:' ,decrypt_caesar('I1UVW S0VW'))\n",
    "print('Resultado decriptografia:' ,decrypt_caesar(' '))\n"
   ]
  },
  {
   "cell_type": "code",
   "execution_count": 65,
   "metadata": {},
   "outputs": [
    {
     "data": {
      "text/plain": [
       "True"
      ]
     },
     "execution_count": 65,
     "metadata": {},
     "output_type": "execute_result"
    }
   ],
   "source": [
    "all([\n",
    "  encrypt_caesar('A') == 'D',\n",
    "  encrypt_caesar('B') == 'E',\n",
    "  encrypt_caesar('I') == 'L',\n",
    "  encrypt_caesar('X') == 'A',\n",
    "  encrypt_caesar('Z') == 'C',\n",
    "  encrypt_caesar('AA') == 'DD',\n",
    "  encrypt_caesar('TH') == 'WK',\n",
    "  encrypt_caesar('CAT') == 'FDW',\n",
    "  encrypt_caesar('DOG') == 'GRJ',\n",
    "  encrypt_caesar('TOO') == 'WRR',\n",
    "  encrypt_caesar('DAMN') == 'GDPQ',\n",
    "  encrypt_caesar('DANIEL') == 'GDQLHO',\n",
    "  encrypt_caesar('PYTHON') == 'SBWKRQ',\n",
    "  encrypt_caesar('WHEEEEEE') == 'ZKHHHHHH',\n",
    "  encrypt_caesar('WITH SPACE') == 'ZLWK VSDFH',\n",
    "  encrypt_caesar('WITH TWO SPACES') == 'ZLWK WZR VSDFHV',\n",
    "  encrypt_caesar('NUM83R5') == 'QXP83U5',\n",
    "  encrypt_caesar('0DD !T$') == '0GG !W$',\n",
    "])\n"
   ]
  },
  {
   "cell_type": "code",
   "execution_count": 66,
   "metadata": {},
   "outputs": [
    {
     "data": {
      "text/plain": [
       "True"
      ]
     },
     "execution_count": 66,
     "metadata": {},
     "output_type": "execute_result"
    }
   ],
   "source": [
    "all([\n",
    "  decrypt_caesar('D') == 'A',\n",
    "  decrypt_caesar('E') == 'B',\n",
    "  decrypt_caesar('L') == 'I',\n",
    "  decrypt_caesar('A') == 'X',\n",
    "  decrypt_caesar('C') == 'Z',\n",
    "  decrypt_caesar('DD') == 'AA',\n",
    "  decrypt_caesar('WK') == 'TH',\n",
    "  decrypt_caesar('FDW') == 'CAT',\n",
    "  decrypt_caesar('GRJ') == 'DOG',\n",
    "  decrypt_caesar('WRR') == 'TOO',\n",
    "  decrypt_caesar('GDPQ') == 'DAMN',\n",
    "  decrypt_caesar('GDQLHO') == 'DANIEL',\n",
    "  decrypt_caesar('SBWKRQ') == 'PYTHON',\n",
    "  decrypt_caesar('ZKHHHHHH') == 'WHEEEEEE',\n",
    "  decrypt_caesar('ZLWK VSDFH') == 'WITH SPACE',\n",
    "  decrypt_caesar('ZLWK WZR VSDFHV') == 'WITH TWO SPACES',\n",
    "  decrypt_caesar('QXP83U5') == 'NUM83R5',\n",
    "  decrypt_caesar('0GG !W$') == '0DD !T$',\n",
    "])"
   ]
  }
 ],
 "metadata": {
  "kernelspec": {
   "display_name": "Python 3",
   "language": "python",
   "name": "python3"
  },
  "language_info": {
   "codemirror_mode": {
    "name": "ipython",
    "version": 3
   },
   "file_extension": ".py",
   "mimetype": "text/x-python",
   "name": "python",
   "nbconvert_exporter": "python",
   "pygments_lexer": "ipython3",
   "version": "3.6.1"
  }
 },
 "nbformat": 4,
 "nbformat_minor": 2
}
