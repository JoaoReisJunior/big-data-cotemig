{
 "cells": [
  {
   "cell_type": "code",
   "execution_count": 72,
   "metadata": {
    "collapsed": true
   },
   "outputs": [],
   "source": [
    "## Referências de estudos\n",
    "\n",
    "############# https://www.youtube.com/watch?v=LaWp_Kq0cKs\n",
    "############# https://www.youtube.com/watch?v=rWyxZjjOGjY\n",
    "\n",
    "### vi que poderia ser utilizado ZIP e outros recursos mais complexos. Infelizmente tentei implementar mas não compilou.\n",
    "### então preferi implementar utilizando uma lógica mais simples e os vídeos acima foram utilizados para entender a proposta\n",
    "\n",
    "####### Deixo aqui meus agradecimentos a sua atenção que teve comigo durante as aulas. Valeu !!!!"
   ]
  },
  {
   "cell_type": "code",
   "execution_count": null,
   "metadata": {
    "collapsed": true
   },
   "outputs": [],
   "source": [
    "def encrypt_vigenere(plaintext, key):\n",
    "    key_length = len(key)\n",
    "    key_as_int = [ord(i) for i in key]\n",
    "    plaintext_int = [ord(i) for i in plaintext]\n",
    "    ciphertext = ''\n",
    "    for i in range(len(plaintext_int)):\n",
    "        value = (plaintext_int[i] + key_as_int[i % key_length]) % 26\n",
    "        ciphertext += chr(value + 65)\n",
    "    return ciphertext"
   ]
  },
  {
   "cell_type": "code",
   "execution_count": 73,
   "metadata": {},
   "outputs": [
    {
     "name": "stdout",
     "output_type": "stream",
     "text": [
      "FLEEATONCE\n",
      "PTOPA\n",
      "LXFOPVEFRNHR\n",
      "HIMFROMEQBGIDSQ\n",
      "IILFRPMDQBHICSQ\n",
      "KTFGPXMCXOI\n",
      "OAEF\n",
      "OWEI\n",
      "HYFLZRVYMH\n",
      "PFNQRDOIDX\n",
      "O\n"
     ]
    }
   ],
   "source": [
    "print(encrypt('FLEEATONCE', 'A'))             ## == 'FLEEATONCE',\n",
    "print(encrypt('IMHIT', 'H'))                  ## == 'PTOPA',\n",
    "print(encrypt('ATTACKATDAWN', 'LEMON'))       ## == 'LXFOPVEFRNHR',\n",
    "print(encrypt('WEAREDISCOVERED', 'LEMON'))    ## == 'HIMFROMEQBGIDSQ',\n",
    "print(encrypt('WEAREDISCOVERED', 'MELON'))    ## == 'IILFRPMDQBHICSQ',\n",
    "print(encrypt('CANTBELIEVE', 'ITSNOTBUTTER')) ## == 'KTFGPXMCXOI',\n",
    "print(encrypt('CART', 'MAN'))                 ## == 'OAEF',\n",
    "print(encrypt('HYPE', 'HYPE'))                ## == 'OWEI',\n",
    "print(encrypt('SAMELENGTH', 'PYTHONISTA'))    ## == 'HYFLZRVYMH',\n",
    "print(encrypt('SHORTERKEY', 'XYZZYZ'))        ## == 'PFNQRDOIDX',\n",
    "print(encrypt('A', 'ONEINPUT'))               ## == 'O',\n"
   ]
  },
  {
   "cell_type": "code",
   "execution_count": 81,
   "metadata": {
    "collapsed": true
   },
   "outputs": [],
   "source": [
    "def decrypt_vigenere(ciphertext, key):\n",
    "    key_length = len(key)\n",
    "    key_as_int = [ord(i) for i in key]\n",
    "    ciphertext_int = [ord(i) for i in ciphertext]\n",
    "    plaintext = ''\n",
    "    for i in range(len(ciphertext_int)):\n",
    "        value = (ciphertext_int[i] - key_as_int[i % key_length]) % 26\n",
    "        plaintext += chr(value + 65)\n",
    "    return plaintext"
   ]
  },
  {
   "cell_type": "code",
   "execution_count": 82,
   "metadata": {},
   "outputs": [
    {
     "name": "stdout",
     "output_type": "stream",
     "text": [
      "FLEEATONCE\n",
      "IMHIT\n",
      "ATTACKATDAWN\n",
      "WEAREDISCOVERED\n",
      "WEAREDISCOVERED\n",
      "CANTBELIEVE\n",
      "CART\n",
      "HYPE\n",
      "SAMELENGTH\n",
      "SHORTERKEY\n",
      "A\n"
     ]
    }
   ],
   "source": [
    "print(decrypt_vigenere('FLEEATONCE', 'A'))             ## == 'FLEEATONCE',\n",
    "print(decrypt_vigenere('PTOPA', 'H'))                   ## == 'IMHIT',\n",
    "print(decrypt_vigenere('LXFOPVEFRNHR', 'LEMON'))        ## == 'ATTACKATDAWN',\n",
    "print(decrypt_vigenere('HIMFROMEQBGIDSQ', 'LEMON'))     ##  == 'WEAREDISCOVERED',\n",
    "print(decrypt_vigenere('IILFRPMDQBHICSQ', 'MELON'))     ## == 'WEAREDISCOVERED',\n",
    "print(decrypt_vigenere('KTFGPXMCXOI', 'ITSNOTBUTTER'))  ##  == 'CANTBELIEVE',\n",
    "print(decrypt_vigenere('OAEF', 'MAN'))                  ##  == 'CART',\n",
    "print(decrypt_vigenere('OWEI', 'HYPE'))                 ## == 'HYPE',\n",
    "print(decrypt_vigenere('HYFLZRVYMH', 'PYTHONISTA'))     ## == 'SAMELENGTH',\n",
    "print(decrypt_vigenere('PFNQRDOIDX', 'XYZZYZ'))         ## == 'SHORTERKEY',\n",
    "print(decrypt_vigenere('O', 'ONEINPUT'))                ## == 'A',"
   ]
  }
 ],
 "metadata": {
  "kernelspec": {
   "display_name": "Python 3",
   "language": "python",
   "name": "python3"
  },
  "language_info": {
   "codemirror_mode": {
    "name": "ipython",
    "version": 3
   },
   "file_extension": ".py",
   "mimetype": "text/x-python",
   "name": "python",
   "nbconvert_exporter": "python",
   "pygments_lexer": "ipython3",
   "version": "3.6.1"
  }
 },
 "nbformat": 4,
 "nbformat_minor": 2
}
